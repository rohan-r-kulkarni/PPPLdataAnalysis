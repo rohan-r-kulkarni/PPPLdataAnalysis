{
 "cells": [
  {
   "cell_type": "code",
   "execution_count": null,
   "id": "21ca3561-71b5-4f0b-b0e3-b42848a90a9a",
   "metadata": {},
   "outputs": [
    {
     "name": "stdin",
     "output_type": "stream",
     "text": [
      "CDF input pathname:  /Users/hji/Documents/Erik/Python stuff/Summer 2021/cdflib/mms1_scm_brst_l2_schb_20210605235833_v2.2.0.cdf\n",
      "TXT output pathname:  /Users/hji/Documents/Erik/Python stuff/Summer 2021/cdflib/mms1_scm_brst_l2_schb_20210605235833_v2.2.0.txt\n"
     ]
    },
    {
     "name": "stdout",
     "output_type": "stream",
     "text": [
      "mms1_scm_acb_gse_schb_brst_l2 589838\n",
      "999records completed\n",
      "1999records completed\n",
      "2999records completed\n",
      "3999records completed\n",
      "4999records completed\n",
      "5999records completed\n",
      "6999records completed\n",
      "7999records completed\n",
      "8999records completed\n",
      "9999records completed\n",
      "10999records completed\n",
      "11999records completed\n",
      "12999records completed\n",
      "13999records completed\n",
      "14999records completed\n",
      "15999records completed\n",
      "16999records completed\n",
      "17999records completed\n",
      "18999records completed\n",
      "19999records completed\n",
      "20999records completed\n",
      "21999records completed\n",
      "22999records completed\n",
      "23999records completed\n",
      "24999records completed\n",
      "25999records completed\n",
      "26999records completed\n",
      "27999records completed\n",
      "28999records completed\n",
      "29999records completed\n",
      "30999records completed\n",
      "31999records completed\n",
      "32999records completed\n",
      "33999records completed\n",
      "34999records completed\n",
      "35999records completed\n",
      "36999records completed\n",
      "37999records completed\n",
      "38999records completed\n",
      "39999records completed\n",
      "40999records completed\n",
      "41999records completed\n",
      "42999records completed\n",
      "43999records completed\n",
      "44999records completed\n",
      "45999records completed\n",
      "46999records completed\n",
      "47999records completed\n",
      "48999records completed\n"
     ]
    }
   ],
   "source": [
    "#This .py will extract all z and rVariables from CDF files.\n",
    "\n",
    "#Will take a while to run. Use Ctrl-C to kill the program.\n",
    "import cdflib\n",
    "import numpy\n",
    "\n",
    "print(\"hi\")\n",
    "\n",
    "file = cdflib.CDF(input(\"CDF input pathname: \"))\n",
    "rData = []\n",
    "zData = [] #Each variable is a list, containing indexes for each record. The variable lists are each indexes in the zData[] list.\n",
    "filename = input(\"TXT output pathname: \").strip() #Which file to save to, this can be embedded in a for loop for many CDF files\n",
    "txt = open(filename, \"w\")\n",
    "\n",
    "def readvariables(listname, vartype):\n",
    "    \"\"\"Sort data into lists, only meant for rVariables and zVariables.\n",
    "    For vartype input r or z.\n",
    "    listname is meant for the list to save to.\"\"\"\n",
    "    for i in file.cdf_info().get(vartype + \"Variables\"):\n",
    "        try:\n",
    "            print(i + \" \" + str(file.varinq(i).get(\"Last_Rec\"))) #Print name of variable and number of records\n",
    "            listname.append([i])\n",
    "            counter = 0 #Counter to print every 1000 records\n",
    "            for j in range(file.varinq(i).get(\"Last_Rec\")):\n",
    "                listname[file.cdf_info().get(vartype + \"Variables\").index(i)].append(file.varget(i,startrec=j,endrec=j+1).tolist())\n",
    "                #Append data to the right list and right index\n",
    "                counter = counter + 1\n",
    "                if counter >= 1000:\n",
    "                    print(str(j) + \"records completed\")\n",
    "                    counter = 0\n",
    "        except ValueError:\n",
    "            print(\"No records found\") #In case there are no records\n",
    "            continue\n",
    "    txt.write(vartype + \"Variables: \" + str(listname))\n",
    "readvariables(zData, \"z\")\n",
    "readvariables(rData, \"r\")\n",
    "txt.close()"
   ]
  },
  {
   "cell_type": "code",
   "execution_count": null,
   "id": "f1d5f587-7a23-4eb7-8ad7-bedd8a7ad8a3",
   "metadata": {},
   "outputs": [],
   "source": []
  }
 ],
 "metadata": {
  "kernelspec": {
   "display_name": "Python 3",
   "language": "python",
   "name": "python3"
  },
  "language_info": {
   "codemirror_mode": {
    "name": "ipython",
    "version": 3
   },
   "file_extension": ".py",
   "mimetype": "text/x-python",
   "name": "python",
   "nbconvert_exporter": "python",
   "pygments_lexer": "ipython3",
   "version": "3.9.5"
  }
 },
 "nbformat": 4,
 "nbformat_minor": 5
}
